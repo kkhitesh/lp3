{
 "cells": [
  {
   "cell_type": "code",
   "execution_count": 3,
   "id": "27cb274c-d986-4866-870e-8393bb578e5d",
   "metadata": {},
   "outputs": [
    {
     "name": "stdin",
     "output_type": "stream",
     "text": [
      "First Coefficient:  3\n",
      "Second Coefficient:  4\n"
     ]
    },
    {
     "name": "stdout",
     "output_type": "stream",
     "text": [
      "Generating: ...\n",
      "Generator:  [5, 12]\n"
     ]
    },
    {
     "name": "stdin",
     "output_type": "stream",
     "text": [
      "Enter plaintext:  10001010\n"
     ]
    },
    {
     "name": "stdout",
     "output_type": "stream",
     "text": [
      "[65, 156]\n",
      "[75, 180]\n",
      "[170, 10003560]\n",
      "10001010\n"
     ]
    }
   ],
   "source": [
    "import math\n",
    "import random\n",
    "\n",
    "def point(a,b):\n",
    "    if(4*(a**3)+27*(b**2)) != 0:\n",
    "        x=1\n",
    "        print(\"Generating: ...\")\n",
    "        while True:\n",
    "            rhs = (x**3) + (a*x) + b\n",
    "            y = int(math.sqrt(rhs))\n",
    "            lhs = y**2\n",
    "            \n",
    "            if lhs == rhs:\n",
    "                return [x,y]\n",
    "            else:\n",
    "                x+=1\n",
    "    else:\n",
    "        print(\"Enter another coefficients\")\n",
    "        \n",
    "a = int(input(\"First Coefficient: \"))\n",
    "b = int(input(\"Second Coefficient: \"))\n",
    "\n",
    "private_A = 13\n",
    "private_B = 15\n",
    "\n",
    "generator = point(a,b)\n",
    "print(\"Generator: \", generator)\n",
    "\n",
    "m = int(input(\"Enter plaintext: \"))\n",
    "\n",
    "public_A = [private_A*generator[0],private_A*generator[1]]\n",
    "public_B = [private_B*generator[0],private_B*generator[1]]\n",
    "\n",
    "print(public_A)\n",
    "print(public_B)\n",
    "\n",
    "k = random.randint(0,10)\n",
    "\n",
    "c1 = k * (generator[0]+generator[1])\n",
    "c2 = m + ((k*public_B[0])+(k*public_B[1]))\n",
    "\n",
    "c = [c1,c2]\n",
    "print(c)\n",
    "\n",
    "r = private_B*c1\n",
    "\n",
    "p = c2 - r\n",
    "\n",
    "print(p)"
   ]
  },
  {
   "cell_type": "code",
   "execution_count": null,
   "id": "9b0abd5a-2ad3-4d0a-b2c3-f61238ec1318",
   "metadata": {},
   "outputs": [],
   "source": []
  }
 ],
 "metadata": {
  "kernelspec": {
   "display_name": "Python 3 (ipykernel)",
   "language": "python",
   "name": "python3"
  },
  "language_info": {
   "codemirror_mode": {
    "name": "ipython",
    "version": 3
   },
   "file_extension": ".py",
   "mimetype": "text/x-python",
   "name": "python",
   "nbconvert_exporter": "python",
   "pygments_lexer": "ipython3",
   "version": "3.10.4"
  }
 },
 "nbformat": 4,
 "nbformat_minor": 5
}
