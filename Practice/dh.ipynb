{
 "cells": [
  {
   "cell_type": "code",
   "execution_count": 2,
   "id": "494d7db3-9149-4537-bca4-beec5cb6b695",
   "metadata": {},
   "outputs": [
    {
     "name": "stdout",
     "output_type": "stream",
     "text": [
      "P:  23\n",
      "G:  9\n",
      "6\n",
      "16\n",
      "9\n",
      "9\n"
     ]
    }
   ],
   "source": [
    "P=23\n",
    "G=9\n",
    "\n",
    "print(\"P: \",P)\n",
    "print(\"G: \",G)\n",
    "\n",
    "a=4\n",
    "A=int(pow(G,a,P))\n",
    "print(A)\n",
    "\n",
    "b=3\n",
    "B=int(pow(G,b,P))\n",
    "print(B)\n",
    "\n",
    "ka=int(pow(B,a,P))\n",
    "kb=int(pow(A,b,P))\n",
    "print(ka)\n",
    "print(kb)\n"
   ]
  },
  {
   "cell_type": "code",
   "execution_count": null,
   "id": "7fa2662a-abde-48aa-979d-a1a2fdf699da",
   "metadata": {},
   "outputs": [],
   "source": []
  }
 ],
 "metadata": {
  "kernelspec": {
   "display_name": "Python 3 (ipykernel)",
   "language": "python",
   "name": "python3"
  },
  "language_info": {
   "codemirror_mode": {
    "name": "ipython",
    "version": 3
   },
   "file_extension": ".py",
   "mimetype": "text/x-python",
   "name": "python",
   "nbconvert_exporter": "python",
   "pygments_lexer": "ipython3",
   "version": "3.10.4"
  }
 },
 "nbformat": 4,
 "nbformat_minor": 5
}
